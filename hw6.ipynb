{
 "cells": [
  {
   "cell_type": "markdown",
   "metadata": {},
   "source": [
    "# Homework 6: Exploring Uber and Lyft Prices in Boston"
   ]
  },
  {
   "cell_type": "markdown",
   "metadata": {},
   "source": [
    "Name: Jimin Lee\n",
    "\n",
    "Student ID: 508714\n",
    "\n",
    "Collaborators:\n"
   ]
  },
  {
   "cell_type": "markdown",
   "metadata": {},
   "source": [
    "## Instructions\n",
    "\n",
    "This homework is an _open-ended midterm project_ for our class. \n",
    "\n",
    "We will be using the techniques and approaches introduced in the first half of the semester, focussing on M0, M1, M2, and M6. \n",
    "> **Note:** You may do some supervised learning (as covered in M3 and M4), however, this should not be the _only_ thing(s) you do. We definitley want to see DS workflow/life-cycle (**M1**), lots of EDA (**M2**) and a discussion of ethical issues (**M6**):\n",
    "\n",
    "* **[M0] Python for DS**\n",
    "* **[M1] The DS and ML Workflows**\n",
    "* **[M2] Exploratory Data Analsyis**\n",
    "* [M3] Linear Regression (if applicable - depends on problem/dataset)\n",
    "* [M4] Linear Classification (if applicable - depends on problem/dataset)\n",
    "* [M5] Sentiment Analysis (if applicable - depends on problem/dataset)\n",
    "* **[M6] Ethical Thinking for DS**\n",
    "\n",
    "The main focus of this project is on the first three modules [M0]-[M2], as well as the ethical consderations for DS from [M6]. In particular, it will be helpful to review **Lab 2 & hw2 (Analyzing the MoMA Data)** first. Most of the things you will do in this midterm project are explained in `Lab2` and `hw2`. Then, review the other labs and hws to recap the  general workflow of our DS approaches to the various problems we have worked on so far. This will help you to be prepared for all the steps in this project, so that you do not miss anything. \n",
    "\n",
    "In gernal, you should feel free to import any package that we have previously used in class; you might want to also experiemnt with or use other packages. Ensure that all plots have the necessary components that a plot should have (e.g. axes labels, a title, a legend). \n",
    "\n",
    "Additionally, note that this assignment is more like a project than a typical homework and it will have a slightly different structure than the hws in the past. One of the reasons why Jupyter Notebooks are so popular in the field is because you can really treat them like notebooks to explain your findings as you discover them. In this assignment, we provide some **Problem** stubs following the EDA/DS workflow and you will need to fill in the analysis and structure as you go. Note that you will be partially graded on the presentation (_cleanliness, clarity, comments_) of your notebook so make sure you [Marie Kondo](https://lifehacker.com/marie-kondo-is-not-a-verb-1833373654) your notebook before submitting it.\n",
    "\n",
    "Furthermore, in addition to recording your collaborators on this homework, please also remember to cite/indicate all external sources used when finishing this assignment. This includes peers, TAs, and links to online sources. \n",
    "\n",
    "Frequently **save** your notebook!"
   ]
  },
  {
   "cell_type": "markdown",
   "metadata": {},
   "source": [
    "### Collaborators and Sources\n",
    "Furthermore, in addition to recording your **collaborators** on this homework, please also remember to **cite/indicate all external sources** used when finishing this assignment. \n",
    "> This includes peers, TAs, and links to online sources. \n",
    "\n",
    "Note that these citations will not free you from your obligation to submit your _own_ code and write-ups, however, they will be taken into account during the grading and regrading process."
   ]
  },
  {
   "cell_type": "code",
   "execution_count": 1,
   "metadata": {},
   "outputs": [],
   "source": [
    "# collaborators and sources:\n",
    "# Albert Einstein and Marie Curie\n",
    "# https://developers.google.com/edu/python/strings\n",
    "\n",
    "# your code here\n",
    "answer = 'my answer'"
   ]
  },
  {
   "cell_type": "markdown",
   "metadata": {},
   "source": [
    "## 1. Introduction\n",
    "\n",
    "For our midterm project this semester, we'll take a look at data for numerous Lyft and Uber rides in Boston and their prices (https://www.kaggle.com/brllrb/uber-and-lyft-dataset-boston-ma). Our goal will be to use this dataset to gain some insight about characteristics of rides and _perhaps_ find some patterns in this data."
   ]
  },
  {
   "cell_type": "markdown",
   "metadata": {},
   "source": [
    "In general, we will be following the EDA process:\n",
    "1. Get the data and gain **basic understanding**\n",
    "2. **Wrangle** the data\n",
    "3. **Profile** the data\n",
    "4. Develop questions to investigate (form a **hypotheses**)\n",
    "5. Use the data to **investigate** hypothesis\n",
    "6. **Summarize** results and answer questions \n",
    "7. **Critically review** our workflow and discuss ethical concerns"
   ]
  },
  {
   "cell_type": "markdown",
   "metadata": {},
   "source": [
    "## 2. Getting Familiar with the Data\n",
    "\n",
    "In this section, we will get a feel for our data and tidy it up so that we can analyize it later. \n",
    "Download the data from the source/link given above and be sure to save the data in a folder called `data` under the `utility` directory. Your final path should look like `utility/data/rideshare_kaggle.csv` -- if it doesn't **we will not be able to properly grade your assignment!**"
   ]
  },
  {
   "cell_type": "markdown",
   "metadata": {},
   "source": [
    "<!-- BEGIN QUESTION -->\n",
    "\n",
    "### Problem 1\n",
    "\n",
    "Let's start by taking a look at our data.\n",
    "\n",
    "**Write-up!** Describe the data, answering questions including, but not limited to, these: Where does the data come from? How was it obtained? How many examples and features does the dataset have? What kinds of features are in the dataset? What values can these features take?\n",
    "> **Hint**: Consider the steps of EDA; what would you like to know about this dataset. "
   ]
  },
  {
   "cell_type": "markdown",
   "metadata": {},
   "source": [
    "The data contains information about rides in Boston, Massachusetts and the weather information corresponding to the day of the ride. The data is most likely from Uber and Lyft. The owner of the data does not specify how the data was obtained. There are 693071 examples and 57 features. Approximately half of the data is from Uber and the other half is from Lyft. The features describe each ride by its ride type, location, date, price, and weather-related information such as temperature, precipitation, and humidity. The features have a variety of data types, from integers and floats to objects like string. For example, source, timezone, destination features are in string, while weather-specific informations such as temperature, humidity, and precipIntensity are in float. The only feature with NaN values, however, is the price feature, where only 637976 out of 693071 are non-null. Some of the categorical features have categories that are not very interpretable, such as the 'product_id' which contains strings of letters and numbers in half of the category names. Another interesting is the time range of the data is between November and December, which explains why many weather-specific features such as temperature have small range. The ranges of latitude and longitude features are also small, most likely because the data only applies to rides in Boston, Massachusetts. "
   ]
  },
  {
   "cell_type": "code",
   "execution_count": 2,
   "metadata": {},
   "outputs": [],
   "source": [
    "import pandas as pd\n",
    "import matplotlib.pyplot as plt\n",
    "import numpy as np"
   ]
  },
  {
   "cell_type": "code",
   "execution_count": 3,
   "metadata": {},
   "outputs": [
    {
     "data": {
      "text/html": [
       "<div>\n",
       "<style scoped>\n",
       "    .dataframe tbody tr th:only-of-type {\n",
       "        vertical-align: middle;\n",
       "    }\n",
       "\n",
       "    .dataframe tbody tr th {\n",
       "        vertical-align: top;\n",
       "    }\n",
       "\n",
       "    .dataframe thead th {\n",
       "        text-align: right;\n",
       "    }\n",
       "</style>\n",
       "<table border=\"1\" class=\"dataframe\">\n",
       "  <thead>\n",
       "    <tr style=\"text-align: right;\">\n",
       "      <th></th>\n",
       "      <th>id</th>\n",
       "      <th>timestamp</th>\n",
       "      <th>hour</th>\n",
       "      <th>day</th>\n",
       "      <th>month</th>\n",
       "      <th>datetime</th>\n",
       "      <th>timezone</th>\n",
       "      <th>source</th>\n",
       "      <th>destination</th>\n",
       "      <th>cab_type</th>\n",
       "      <th>...</th>\n",
       "      <th>precipIntensityMax</th>\n",
       "      <th>uvIndexTime</th>\n",
       "      <th>temperatureMin</th>\n",
       "      <th>temperatureMinTime</th>\n",
       "      <th>temperatureMax</th>\n",
       "      <th>temperatureMaxTime</th>\n",
       "      <th>apparentTemperatureMin</th>\n",
       "      <th>apparentTemperatureMinTime</th>\n",
       "      <th>apparentTemperatureMax</th>\n",
       "      <th>apparentTemperatureMaxTime</th>\n",
       "    </tr>\n",
       "  </thead>\n",
       "  <tbody>\n",
       "    <tr>\n",
       "      <th>0</th>\n",
       "      <td>424553bb-7174-41ea-aeb4-fe06d4f4b9d7</td>\n",
       "      <td>1.544953e+09</td>\n",
       "      <td>9</td>\n",
       "      <td>16</td>\n",
       "      <td>12</td>\n",
       "      <td>2018-12-16 09:30:07</td>\n",
       "      <td>America/New_York</td>\n",
       "      <td>Haymarket Square</td>\n",
       "      <td>North Station</td>\n",
       "      <td>Lyft</td>\n",
       "      <td>...</td>\n",
       "      <td>0.1276</td>\n",
       "      <td>1544979600</td>\n",
       "      <td>39.89</td>\n",
       "      <td>1545012000</td>\n",
       "      <td>43.68</td>\n",
       "      <td>1544968800</td>\n",
       "      <td>33.73</td>\n",
       "      <td>1545012000</td>\n",
       "      <td>38.07</td>\n",
       "      <td>1544958000</td>\n",
       "    </tr>\n",
       "    <tr>\n",
       "      <th>1</th>\n",
       "      <td>4bd23055-6827-41c6-b23b-3c491f24e74d</td>\n",
       "      <td>1.543284e+09</td>\n",
       "      <td>2</td>\n",
       "      <td>27</td>\n",
       "      <td>11</td>\n",
       "      <td>2018-11-27 02:00:23</td>\n",
       "      <td>America/New_York</td>\n",
       "      <td>Haymarket Square</td>\n",
       "      <td>North Station</td>\n",
       "      <td>Lyft</td>\n",
       "      <td>...</td>\n",
       "      <td>0.1300</td>\n",
       "      <td>1543251600</td>\n",
       "      <td>40.49</td>\n",
       "      <td>1543233600</td>\n",
       "      <td>47.30</td>\n",
       "      <td>1543251600</td>\n",
       "      <td>36.20</td>\n",
       "      <td>1543291200</td>\n",
       "      <td>43.92</td>\n",
       "      <td>1543251600</td>\n",
       "    </tr>\n",
       "    <tr>\n",
       "      <th>2</th>\n",
       "      <td>981a3613-77af-4620-a42a-0c0866077d1e</td>\n",
       "      <td>1.543367e+09</td>\n",
       "      <td>1</td>\n",
       "      <td>28</td>\n",
       "      <td>11</td>\n",
       "      <td>2018-11-28 01:00:22</td>\n",
       "      <td>America/New_York</td>\n",
       "      <td>Haymarket Square</td>\n",
       "      <td>North Station</td>\n",
       "      <td>Lyft</td>\n",
       "      <td>...</td>\n",
       "      <td>0.1064</td>\n",
       "      <td>1543338000</td>\n",
       "      <td>35.36</td>\n",
       "      <td>1543377600</td>\n",
       "      <td>47.55</td>\n",
       "      <td>1543320000</td>\n",
       "      <td>31.04</td>\n",
       "      <td>1543377600</td>\n",
       "      <td>44.12</td>\n",
       "      <td>1543320000</td>\n",
       "    </tr>\n",
       "    <tr>\n",
       "      <th>3</th>\n",
       "      <td>c2d88af2-d278-4bfd-a8d0-29ca77cc5512</td>\n",
       "      <td>1.543554e+09</td>\n",
       "      <td>4</td>\n",
       "      <td>30</td>\n",
       "      <td>11</td>\n",
       "      <td>2018-11-30 04:53:02</td>\n",
       "      <td>America/New_York</td>\n",
       "      <td>Haymarket Square</td>\n",
       "      <td>North Station</td>\n",
       "      <td>Lyft</td>\n",
       "      <td>...</td>\n",
       "      <td>0.0000</td>\n",
       "      <td>1543507200</td>\n",
       "      <td>34.67</td>\n",
       "      <td>1543550400</td>\n",
       "      <td>45.03</td>\n",
       "      <td>1543510800</td>\n",
       "      <td>30.30</td>\n",
       "      <td>1543550400</td>\n",
       "      <td>38.53</td>\n",
       "      <td>1543510800</td>\n",
       "    </tr>\n",
       "    <tr>\n",
       "      <th>4</th>\n",
       "      <td>e0126e1f-8ca9-4f2e-82b3-50505a09db9a</td>\n",
       "      <td>1.543463e+09</td>\n",
       "      <td>3</td>\n",
       "      <td>29</td>\n",
       "      <td>11</td>\n",
       "      <td>2018-11-29 03:49:20</td>\n",
       "      <td>America/New_York</td>\n",
       "      <td>Haymarket Square</td>\n",
       "      <td>North Station</td>\n",
       "      <td>Lyft</td>\n",
       "      <td>...</td>\n",
       "      <td>0.0001</td>\n",
       "      <td>1543420800</td>\n",
       "      <td>33.10</td>\n",
       "      <td>1543402800</td>\n",
       "      <td>42.18</td>\n",
       "      <td>1543420800</td>\n",
       "      <td>29.11</td>\n",
       "      <td>1543392000</td>\n",
       "      <td>35.75</td>\n",
       "      <td>1543420800</td>\n",
       "    </tr>\n",
       "  </tbody>\n",
       "</table>\n",
       "<p>5 rows × 57 columns</p>\n",
       "</div>"
      ],
      "text/plain": [
       "                                     id     timestamp  hour  day  month  \\\n",
       "0  424553bb-7174-41ea-aeb4-fe06d4f4b9d7  1.544953e+09     9   16     12   \n",
       "1  4bd23055-6827-41c6-b23b-3c491f24e74d  1.543284e+09     2   27     11   \n",
       "2  981a3613-77af-4620-a42a-0c0866077d1e  1.543367e+09     1   28     11   \n",
       "3  c2d88af2-d278-4bfd-a8d0-29ca77cc5512  1.543554e+09     4   30     11   \n",
       "4  e0126e1f-8ca9-4f2e-82b3-50505a09db9a  1.543463e+09     3   29     11   \n",
       "\n",
       "              datetime          timezone            source    destination  \\\n",
       "0  2018-12-16 09:30:07  America/New_York  Haymarket Square  North Station   \n",
       "1  2018-11-27 02:00:23  America/New_York  Haymarket Square  North Station   \n",
       "2  2018-11-28 01:00:22  America/New_York  Haymarket Square  North Station   \n",
       "3  2018-11-30 04:53:02  America/New_York  Haymarket Square  North Station   \n",
       "4  2018-11-29 03:49:20  America/New_York  Haymarket Square  North Station   \n",
       "\n",
       "  cab_type  ... precipIntensityMax uvIndexTime  temperatureMin  \\\n",
       "0     Lyft  ...             0.1276  1544979600           39.89   \n",
       "1     Lyft  ...             0.1300  1543251600           40.49   \n",
       "2     Lyft  ...             0.1064  1543338000           35.36   \n",
       "3     Lyft  ...             0.0000  1543507200           34.67   \n",
       "4     Lyft  ...             0.0001  1543420800           33.10   \n",
       "\n",
       "   temperatureMinTime  temperatureMax  temperatureMaxTime  \\\n",
       "0          1545012000           43.68          1544968800   \n",
       "1          1543233600           47.30          1543251600   \n",
       "2          1543377600           47.55          1543320000   \n",
       "3          1543550400           45.03          1543510800   \n",
       "4          1543402800           42.18          1543420800   \n",
       "\n",
       "   apparentTemperatureMin  apparentTemperatureMinTime  apparentTemperatureMax  \\\n",
       "0                   33.73                  1545012000                   38.07   \n",
       "1                   36.20                  1543291200                   43.92   \n",
       "2                   31.04                  1543377600                   44.12   \n",
       "3                   30.30                  1543550400                   38.53   \n",
       "4                   29.11                  1543392000                   35.75   \n",
       "\n",
       "  apparentTemperatureMaxTime  \n",
       "0                 1544958000  \n",
       "1                 1543251600  \n",
       "2                 1543320000  \n",
       "3                 1543510800  \n",
       "4                 1543420800  \n",
       "\n",
       "[5 rows x 57 columns]"
      ]
     },
     "execution_count": 3,
     "metadata": {},
     "output_type": "execute_result"
    }
   ],
   "source": [
    "data = pd.read_csv('./utility/data/rideshare_kaggle.csv')\n",
    "data.head(5)"
   ]
  },
  {
   "cell_type": "code",
   "execution_count": 4,
   "metadata": {
    "scrolled": false
   },
   "outputs": [
    {
     "name": "stdout",
     "output_type": "stream",
     "text": [
      "(693071, 57)\n",
      "Index(['id', 'timestamp', 'hour', 'day', 'month', 'datetime', 'timezone',\n",
      "       'source', 'destination', 'cab_type', 'product_id', 'name', 'price',\n",
      "       'distance', 'surge_multiplier', 'latitude', 'longitude', 'temperature',\n",
      "       'apparentTemperature', 'short_summary', 'long_summary',\n",
      "       'precipIntensity', 'precipProbability', 'humidity', 'windSpeed',\n",
      "       'windGust', 'windGustTime', 'visibility', 'temperatureHigh',\n",
      "       'temperatureHighTime', 'temperatureLow', 'temperatureLowTime',\n",
      "       'apparentTemperatureHigh', 'apparentTemperatureHighTime',\n",
      "       'apparentTemperatureLow', 'apparentTemperatureLowTime', 'icon',\n",
      "       'dewPoint', 'pressure', 'windBearing', 'cloudCover', 'uvIndex',\n",
      "       'visibility.1', 'ozone', 'sunriseTime', 'sunsetTime', 'moonPhase',\n",
      "       'precipIntensityMax', 'uvIndexTime', 'temperatureMin',\n",
      "       'temperatureMinTime', 'temperatureMax', 'temperatureMaxTime',\n",
      "       'apparentTemperatureMin', 'apparentTemperatureMinTime',\n",
      "       'apparentTemperatureMax', 'apparentTemperatureMaxTime'],\n",
      "      dtype='object')\n"
     ]
    }
   ],
   "source": [
    "print(data.shape)\n",
    "print(data.columns)"
   ]
  },
  {
   "cell_type": "code",
   "execution_count": 5,
   "metadata": {},
   "outputs": [
    {
     "name": "stdout",
     "output_type": "stream",
     "text": [
      "<class 'pandas.core.frame.DataFrame'>\n",
      "RangeIndex: 693071 entries, 0 to 693070\n",
      "Data columns (total 57 columns):\n",
      " #   Column                       Non-Null Count   Dtype  \n",
      "---  ------                       --------------   -----  \n",
      " 0   id                           693071 non-null  object \n",
      " 1   timestamp                    693071 non-null  float64\n",
      " 2   hour                         693071 non-null  int64  \n",
      " 3   day                          693071 non-null  int64  \n",
      " 4   month                        693071 non-null  int64  \n",
      " 5   datetime                     693071 non-null  object \n",
      " 6   timezone                     693071 non-null  object \n",
      " 7   source                       693071 non-null  object \n",
      " 8   destination                  693071 non-null  object \n",
      " 9   cab_type                     693071 non-null  object \n",
      " 10  product_id                   693071 non-null  object \n",
      " 11  name                         693071 non-null  object \n",
      " 12  price                        637976 non-null  float64\n",
      " 13  distance                     693071 non-null  float64\n",
      " 14  surge_multiplier             693071 non-null  float64\n",
      " 15  latitude                     693071 non-null  float64\n",
      " 16  longitude                    693071 non-null  float64\n",
      " 17  temperature                  693071 non-null  float64\n",
      " 18  apparentTemperature          693071 non-null  float64\n",
      " 19  short_summary                693071 non-null  object \n",
      " 20  long_summary                 693071 non-null  object \n",
      " 21  precipIntensity              693071 non-null  float64\n",
      " 22  precipProbability            693071 non-null  float64\n",
      " 23  humidity                     693071 non-null  float64\n",
      " 24  windSpeed                    693071 non-null  float64\n",
      " 25  windGust                     693071 non-null  float64\n",
      " 26  windGustTime                 693071 non-null  int64  \n",
      " 27  visibility                   693071 non-null  float64\n",
      " 28  temperatureHigh              693071 non-null  float64\n",
      " 29  temperatureHighTime          693071 non-null  int64  \n",
      " 30  temperatureLow               693071 non-null  float64\n",
      " 31  temperatureLowTime           693071 non-null  int64  \n",
      " 32  apparentTemperatureHigh      693071 non-null  float64\n",
      " 33  apparentTemperatureHighTime  693071 non-null  int64  \n",
      " 34  apparentTemperatureLow       693071 non-null  float64\n",
      " 35  apparentTemperatureLowTime   693071 non-null  int64  \n",
      " 36  icon                         693071 non-null  object \n",
      " 37  dewPoint                     693071 non-null  float64\n",
      " 38  pressure                     693071 non-null  float64\n",
      " 39  windBearing                  693071 non-null  int64  \n",
      " 40  cloudCover                   693071 non-null  float64\n",
      " 41  uvIndex                      693071 non-null  int64  \n",
      " 42  visibility.1                 693071 non-null  float64\n",
      " 43  ozone                        693071 non-null  float64\n",
      " 44  sunriseTime                  693071 non-null  int64  \n",
      " 45  sunsetTime                   693071 non-null  int64  \n",
      " 46  moonPhase                    693071 non-null  float64\n",
      " 47  precipIntensityMax           693071 non-null  float64\n",
      " 48  uvIndexTime                  693071 non-null  int64  \n",
      " 49  temperatureMin               693071 non-null  float64\n",
      " 50  temperatureMinTime           693071 non-null  int64  \n",
      " 51  temperatureMax               693071 non-null  float64\n",
      " 52  temperatureMaxTime           693071 non-null  int64  \n",
      " 53  apparentTemperatureMin       693071 non-null  float64\n",
      " 54  apparentTemperatureMinTime   693071 non-null  int64  \n",
      " 55  apparentTemperatureMax       693071 non-null  float64\n",
      " 56  apparentTemperatureMaxTime   693071 non-null  int64  \n",
      "dtypes: float64(29), int64(17), object(11)\n",
      "memory usage: 301.4+ MB\n",
      "None\n"
     ]
    }
   ],
   "source": [
    "# understand the data types of each feature\n",
    "print(data.info())"
   ]
  },
  {
   "cell_type": "code",
   "execution_count": 6,
   "metadata": {},
   "outputs": [
    {
     "name": "stdout",
     "output_type": "stream",
     "text": [
      "<class 'str'>\n"
     ]
    }
   ],
   "source": [
    "# what \"object\" data type is the datetime? \n",
    "print(type(data['datetime'][0]))"
   ]
  },
  {
   "cell_type": "code",
   "execution_count": 10,
   "metadata": {},
   "outputs": [
    {
     "name": "stdout",
     "output_type": "stream",
     "text": [
      "Uber    385663\n",
      "Lyft    307408\n",
      "Name: cab_type, dtype: int64\n"
     ]
    }
   ],
   "source": [
    "print(data['cab_type'].value_counts())"
   ]
  },
  {
   "cell_type": "code",
   "execution_count": 11,
   "metadata": {
    "scrolled": true
   },
   "outputs": [
    {
     "name": "stdout",
     "output_type": "stream",
     "text": [
      "6f72dfc5-27f1-42e8-84db-ccc7a75f6969    55096\n",
      "9a0e7b09-b92b-4c41-9779-2ad22b4d779d    55096\n",
      "6d318bcc-22a3-4af6-bddd-b409bfce1546    55096\n",
      "6c84fd89-3f11-4782-9b50-97c468b19529    55095\n",
      "8cf7e821-f0d3-49c6-8eba-e679c0ebcf6a    55095\n",
      "55c66225-fbe7-4fd5-9072-eab1ece5e23e    55094\n",
      "997acbb5-e102-41e1-b155-9df7de0a73f2    55091\n",
      "lyft_premier                            51235\n",
      "lyft                                    51235\n",
      "lyft_luxsuv                             51235\n",
      "lyft_plus                               51235\n",
      "lyft_lux                                51235\n",
      "lyft_line                               51233\n",
      "Name: product_id, dtype: int64\n"
     ]
    }
   ],
   "source": [
    "# unique labels of 'product_id'\n",
    "print(data['product_id'].value_counts())"
   ]
  },
  {
   "cell_type": "code",
   "execution_count": 46,
   "metadata": {},
   "outputs": [
    {
     "name": "stdout",
     "output_type": "stream",
     "text": [
      "The range of months in the data is from 11 to 12\n"
     ]
    }
   ],
   "source": [
    "# the range of months in the data\n",
    "print(f\"The range of months in the data is from {data['month'].min()} to {data['month'].max()}\")"
   ]
  },
  {
   "cell_type": "code",
   "execution_count": 44,
   "metadata": {
    "scrolled": false
   },
   "outputs": [
    {
     "name": "stdout",
     "output_type": "stream",
     "text": [
      "['month', 'distance', 'surge_multiplier', 'latitude', 'longitude', 'precipIntensity', 'precipProbability', 'humidity', 'visibility', 'cloudCover', 'uvIndex', 'visibility.1', 'moonPhase', 'precipIntensityMax']\n"
     ]
    }
   ],
   "source": [
    "# the features with range of less than 10 in their respective units:\n",
    "print([i for i in data.select_dtypes(include = [np.number]).columns if (data[i].max() - data[i].min() < 10)])"
   ]
  },
  {
   "cell_type": "code",
   "execution_count": 13,
   "metadata": {
    "scrolled": true
   },
   "outputs": [
    {
     "name": "stdout",
     "output_type": "stream",
     "text": [
      "42.2148 42.3661\n",
      "-71.1054 -71.033\n"
     ]
    }
   ],
   "source": [
    "# range of latitude and longitude values: \n",
    "print(data['latitude'].min(), data['latitude'].max())\n",
    "print(data['longitude'].min(), data['longitude'].max())"
   ]
  },
  {
   "cell_type": "code",
   "execution_count": 47,
   "metadata": {
    "scrolled": true
   },
   "outputs": [],
   "source": [
    "# na values in each column\n",
    "#data.isna().sum(axis=0)\n",
    "#data['source'].value_counts()\n",
    "#data['name'].value_counts()"
   ]
  },
  {
   "cell_type": "code",
   "execution_count": 12,
   "metadata": {
    "scrolled": false
   },
   "outputs": [],
   "source": [
    "# categories of short_summary and long_summary\n",
    "#print(data['short_summary'].value_counts())\n",
    "#print()\n",
    "#print(data['long_summary'].value_counts())"
   ]
  },
  {
   "cell_type": "markdown",
   "metadata": {},
   "source": [
    "### Problem 2\n",
    "\n",
    "Let's do some data wrangling. \n",
    "\n",
    "**Write up!** Considering your description of the dataset from [Problem 1](#Problem-1), how should we clean this data?\n",
    "\n",
    "**Do this!** In the cells below, **explain** and perform the steps that you need to prepare this data for further analysis. Make sure that your implementations and write-ups (for processing and analysis) are presented well and effectively describe your workflow. You should add comments and markdown cells for your documentation as you see fit!  \n",
    "\n",
    "*Grading Note: Your work will be graded for _readability_, _style_, and _cleanlines_. So, carefully document your code and use descriptive/intuitive variable names. For write-ups use consice and clear language like in a written project report.*\n",
    "\n",
    "> **Hint**: You can use our previous labs as examples of how you might do this. \n",
    "Also, you might want to come back to this step later on, since you might encounter problems with the data once you actually analyze it. Remember, you may add as many cells (for code and text) as you need below. Here — we gave you one for free!"
   ]
  },
  {
   "cell_type": "markdown",
   "metadata": {},
   "source": [
    "We need to handle the NaN values identified in the 'price' feature.  Dropping the rows with NaN values is not the most ideal, because they may provide imporant information. However, since the owner did not provide the source of the data or explain how he collected the data, dropping the rows is the best compromise now."
   ]
  },
  {
   "cell_type": "code",
   "execution_count": 16,
   "metadata": {
    "scrolled": false
   },
   "outputs": [
    {
     "data": {
      "text/plain": [
       "id                                 0\n",
       "timestamp                          0\n",
       "hour                               0\n",
       "day                                0\n",
       "month                              0\n",
       "datetime                           0\n",
       "timezone                           0\n",
       "source                             0\n",
       "destination                        0\n",
       "cab_type                           0\n",
       "product_id                         0\n",
       "name                               0\n",
       "price                          55095\n",
       "distance                           0\n",
       "surge_multiplier                   0\n",
       "latitude                           0\n",
       "longitude                          0\n",
       "temperature                        0\n",
       "apparentTemperature                0\n",
       "short_summary                      0\n",
       "long_summary                       0\n",
       "precipIntensity                    0\n",
       "precipProbability                  0\n",
       "humidity                           0\n",
       "windSpeed                          0\n",
       "windGust                           0\n",
       "windGustTime                       0\n",
       "visibility                         0\n",
       "temperatureHigh                    0\n",
       "temperatureHighTime                0\n",
       "temperatureLow                     0\n",
       "temperatureLowTime                 0\n",
       "apparentTemperatureHigh            0\n",
       "apparentTemperatureHighTime        0\n",
       "apparentTemperatureLow             0\n",
       "apparentTemperatureLowTime         0\n",
       "icon                               0\n",
       "dewPoint                           0\n",
       "pressure                           0\n",
       "windBearing                        0\n",
       "cloudCover                         0\n",
       "uvIndex                            0\n",
       "visibility.1                       0\n",
       "ozone                              0\n",
       "sunriseTime                        0\n",
       "sunsetTime                         0\n",
       "moonPhase                          0\n",
       "precipIntensityMax                 0\n",
       "uvIndexTime                        0\n",
       "temperatureMin                     0\n",
       "temperatureMinTime                 0\n",
       "temperatureMax                     0\n",
       "temperatureMaxTime                 0\n",
       "apparentTemperatureMin             0\n",
       "apparentTemperatureMinTime         0\n",
       "apparentTemperatureMax             0\n",
       "apparentTemperatureMaxTime         0\n",
       "dtype: int64"
      ]
     },
     "execution_count": 16,
     "metadata": {},
     "output_type": "execute_result"
    }
   ],
   "source": [
    "clean_data = data.dropna()\n",
    "data.isna().sum(axis=0)"
   ]
  },
  {
   "cell_type": "markdown",
   "metadata": {},
   "source": [
    "### Problem 3\n",
    "\n",
    "**Do this!** Now that we cleaned up our data, we are ready to look into it. In this problem, we want to profile our data and explore its variables.\n",
    "\n",
    "> **Hint**: Note that the way some data is stored does not necesarily mean that each column should correspond to a seperate variable. Feel free to define your own variables based on the input data. Looking at the dataset documentation might be helpful to figure out meaningful representations. Also note that there are no right or wrong representations here (since it is your job to find something interesting in the data, it is also up to you to choose the data/variable representations). Again, you might want to iterate over this step again later after doing some more exploration. \n",
    "\n",
    "> **Hint**: Recall from Lab 2, this step usually involves computing summary statistics and basic plots _where applicable_. Try plotting some of the data (with appropriate plots; remember the lecture content - some plots introduced in there ( we did not yet use in the lab or hw) could be useful). Then, highlight a few of the more interesting ones and discuss why you thought they were interesting — for both our sakes, **please only include the most interesting ones** in your actual submission!!  Again note that there are no right or wrong features to choose here (since it is your job to find something interesting in the data, it is also up to you to choose the data/variables to include). Just be sure to make a selection. You will not receive any credit by simply plotting everything!  \n",
    "\n",
    "*Grading Note*: Your work will be graded for _creativity_ and _aesthetics_. Be creative in the plots you use and select visulatizations and colors that make for a plesant and intuitive viewing expereince. The goal of a good visualization is that the viewer will quickly understand your figures.* \n",
    "\n",
    "Once again, we have provided a _free_ cell for you to use; make as many as you need. Use text/markdown cells to describe what you are doing and what your findings are. "
   ]
  },
  {
   "cell_type": "code",
   "execution_count": 17,
   "metadata": {
    "scrolled": false
   },
   "outputs": [
    {
     "data": {
      "text/html": [
       "<div>\n",
       "<style scoped>\n",
       "    .dataframe tbody tr th:only-of-type {\n",
       "        vertical-align: middle;\n",
       "    }\n",
       "\n",
       "    .dataframe tbody tr th {\n",
       "        vertical-align: top;\n",
       "    }\n",
       "\n",
       "    .dataframe thead th {\n",
       "        text-align: right;\n",
       "    }\n",
       "</style>\n",
       "<table border=\"1\" class=\"dataframe\">\n",
       "  <thead>\n",
       "    <tr style=\"text-align: right;\">\n",
       "      <th></th>\n",
       "      <th>count</th>\n",
       "      <th>unique</th>\n",
       "      <th>top</th>\n",
       "      <th>freq</th>\n",
       "    </tr>\n",
       "  </thead>\n",
       "  <tbody>\n",
       "    <tr>\n",
       "      <th>id</th>\n",
       "      <td>693071</td>\n",
       "      <td>693071</td>\n",
       "      <td>424553bb-7174-41ea-aeb4-fe06d4f4b9d7</td>\n",
       "      <td>1</td>\n",
       "    </tr>\n",
       "    <tr>\n",
       "      <th>datetime</th>\n",
       "      <td>693071</td>\n",
       "      <td>31350</td>\n",
       "      <td>2018-11-26 23:21:14</td>\n",
       "      <td>156</td>\n",
       "    </tr>\n",
       "    <tr>\n",
       "      <th>timezone</th>\n",
       "      <td>693071</td>\n",
       "      <td>1</td>\n",
       "      <td>America/New_York</td>\n",
       "      <td>693071</td>\n",
       "    </tr>\n",
       "    <tr>\n",
       "      <th>source</th>\n",
       "      <td>693071</td>\n",
       "      <td>12</td>\n",
       "      <td>Financial District</td>\n",
       "      <td>58857</td>\n",
       "    </tr>\n",
       "    <tr>\n",
       "      <th>destination</th>\n",
       "      <td>693071</td>\n",
       "      <td>12</td>\n",
       "      <td>Financial District</td>\n",
       "      <td>58851</td>\n",
       "    </tr>\n",
       "    <tr>\n",
       "      <th>cab_type</th>\n",
       "      <td>693071</td>\n",
       "      <td>2</td>\n",
       "      <td>Uber</td>\n",
       "      <td>385663</td>\n",
       "    </tr>\n",
       "    <tr>\n",
       "      <th>product_id</th>\n",
       "      <td>693071</td>\n",
       "      <td>13</td>\n",
       "      <td>6f72dfc5-27f1-42e8-84db-ccc7a75f6969</td>\n",
       "      <td>55096</td>\n",
       "    </tr>\n",
       "    <tr>\n",
       "      <th>name</th>\n",
       "      <td>693071</td>\n",
       "      <td>13</td>\n",
       "      <td>UberXL</td>\n",
       "      <td>55096</td>\n",
       "    </tr>\n",
       "    <tr>\n",
       "      <th>short_summary</th>\n",
       "      <td>693071</td>\n",
       "      <td>9</td>\n",
       "      <td>Overcast</td>\n",
       "      <td>218895</td>\n",
       "    </tr>\n",
       "    <tr>\n",
       "      <th>long_summary</th>\n",
       "      <td>693071</td>\n",
       "      <td>11</td>\n",
       "      <td>Mostly cloudy throughout the day.</td>\n",
       "      <td>202340</td>\n",
       "    </tr>\n",
       "    <tr>\n",
       "      <th>icon</th>\n",
       "      <td>693071</td>\n",
       "      <td>7</td>\n",
       "      <td>cloudy</td>\n",
       "      <td>218895</td>\n",
       "    </tr>\n",
       "  </tbody>\n",
       "</table>\n",
       "</div>"
      ],
      "text/plain": [
       "                count  unique                                   top    freq\n",
       "id             693071  693071  424553bb-7174-41ea-aeb4-fe06d4f4b9d7       1\n",
       "datetime       693071   31350                   2018-11-26 23:21:14     156\n",
       "timezone       693071       1                      America/New_York  693071\n",
       "source         693071      12                    Financial District   58857\n",
       "destination    693071      12                    Financial District   58851\n",
       "cab_type       693071       2                                  Uber  385663\n",
       "product_id     693071      13  6f72dfc5-27f1-42e8-84db-ccc7a75f6969   55096\n",
       "name           693071      13                                UberXL   55096\n",
       "short_summary  693071       9                             Overcast   218895\n",
       "long_summary   693071      11    Mostly cloudy throughout the day.   202340\n",
       "icon           693071       7                               cloudy   218895"
      ]
     },
     "execution_count": 17,
     "metadata": {},
     "output_type": "execute_result"
    }
   ],
   "source": [
    "data.select_dtypes(include = 'object').describe().transpose()"
   ]
  },
  {
   "cell_type": "code",
   "execution_count": 18,
   "metadata": {},
   "outputs": [
    {
     "data": {
      "text/plain": [
       "Uber    385663\n",
       "Lyft    307408\n",
       "Name: cab_type, dtype: int64"
      ]
     },
     "execution_count": 18,
     "metadata": {},
     "output_type": "execute_result"
    }
   ],
   "source": [
    "data['cab_type'].value_counts()"
   ]
  },
  {
   "cell_type": "code",
   "execution_count": 19,
   "metadata": {},
   "outputs": [
    {
     "data": {
      "text/html": [
       "<div>\n",
       "<style scoped>\n",
       "    .dataframe tbody tr th:only-of-type {\n",
       "        vertical-align: middle;\n",
       "    }\n",
       "\n",
       "    .dataframe tbody tr th {\n",
       "        vertical-align: top;\n",
       "    }\n",
       "\n",
       "    .dataframe thead th {\n",
       "        text-align: right;\n",
       "    }\n",
       "</style>\n",
       "<table border=\"1\" class=\"dataframe\">\n",
       "  <thead>\n",
       "    <tr style=\"text-align: right;\">\n",
       "      <th></th>\n",
       "      <th>count</th>\n",
       "      <th>mean</th>\n",
       "      <th>std</th>\n",
       "      <th>min</th>\n",
       "      <th>25%</th>\n",
       "      <th>50%</th>\n",
       "      <th>75%</th>\n",
       "      <th>max</th>\n",
       "    </tr>\n",
       "  </thead>\n",
       "  <tbody>\n",
       "    <tr>\n",
       "      <th>timestamp</th>\n",
       "      <td>637976.0</td>\n",
       "      <td>0.430280</td>\n",
       "      <td>0.352197</td>\n",
       "      <td>0.0</td>\n",
       "      <td>0.122810</td>\n",
       "      <td>0.272647</td>\n",
       "      <td>0.829827</td>\n",
       "      <td>1.0</td>\n",
       "    </tr>\n",
       "    <tr>\n",
       "      <th>hour</th>\n",
       "      <td>637976.0</td>\n",
       "      <td>0.505153</td>\n",
       "      <td>0.302121</td>\n",
       "      <td>0.0</td>\n",
       "      <td>0.260870</td>\n",
       "      <td>0.521739</td>\n",
       "      <td>0.782609</td>\n",
       "      <td>1.0</td>\n",
       "    </tr>\n",
       "    <tr>\n",
       "      <th>day</th>\n",
       "      <td>637976.0</td>\n",
       "      <td>0.579230</td>\n",
       "      <td>0.344210</td>\n",
       "      <td>0.0</td>\n",
       "      <td>0.413793</td>\n",
       "      <td>0.551724</td>\n",
       "      <td>0.931034</td>\n",
       "      <td>1.0</td>\n",
       "    </tr>\n",
       "    <tr>\n",
       "      <th>month</th>\n",
       "      <td>637976.0</td>\n",
       "      <td>0.586550</td>\n",
       "      <td>0.492452</td>\n",
       "      <td>0.0</td>\n",
       "      <td>0.000000</td>\n",
       "      <td>1.000000</td>\n",
       "      <td>1.000000</td>\n",
       "      <td>1.0</td>\n",
       "    </tr>\n",
       "    <tr>\n",
       "      <th>price</th>\n",
       "      <td>637976.0</td>\n",
       "      <td>0.147843</td>\n",
       "      <td>0.098151</td>\n",
       "      <td>0.0</td>\n",
       "      <td>0.068421</td>\n",
       "      <td>0.115789</td>\n",
       "      <td>0.210526</td>\n",
       "      <td>1.0</td>\n",
       "    </tr>\n",
       "    <tr>\n",
       "      <th>distance</th>\n",
       "      <td>637976.0</td>\n",
       "      <td>0.276691</td>\n",
       "      <td>0.144823</td>\n",
       "      <td>0.0</td>\n",
       "      <td>0.159439</td>\n",
       "      <td>0.272959</td>\n",
       "      <td>0.371173</td>\n",
       "      <td>1.0</td>\n",
       "    </tr>\n",
       "    <tr>\n",
       "      <th>surge_multiplier</th>\n",
       "      <td>637976.0</td>\n",
       "      <td>0.007534</td>\n",
       "      <td>0.047711</td>\n",
       "      <td>0.0</td>\n",
       "      <td>0.000000</td>\n",
       "      <td>0.000000</td>\n",
       "      <td>0.000000</td>\n",
       "      <td>1.0</td>\n",
       "    </tr>\n",
       "    <tr>\n",
       "      <th>latitude</th>\n",
       "      <td>637976.0</td>\n",
       "      <td>0.815342</td>\n",
       "      <td>0.316297</td>\n",
       "      <td>0.0</td>\n",
       "      <td>0.895572</td>\n",
       "      <td>0.906147</td>\n",
       "      <td>0.990747</td>\n",
       "      <td>1.0</td>\n",
       "    </tr>\n",
       "    <tr>\n",
       "      <th>longitude</th>\n",
       "      <td>637976.0</td>\n",
       "      <td>0.542210</td>\n",
       "      <td>0.280435</td>\n",
       "      <td>0.0</td>\n",
       "      <td>0.337017</td>\n",
       "      <td>0.584254</td>\n",
       "      <td>0.707182</td>\n",
       "      <td>1.0</td>\n",
       "    </tr>\n",
       "    <tr>\n",
       "      <th>temperature</th>\n",
       "      <td>637976.0</td>\n",
       "      <td>0.539609</td>\n",
       "      <td>0.175555</td>\n",
       "      <td>0.0</td>\n",
       "      <td>0.457844</td>\n",
       "      <td>0.563299</td>\n",
       "      <td>0.643957</td>\n",
       "      <td>1.0</td>\n",
       "    </tr>\n",
       "    <tr>\n",
       "      <th>apparentTemperature</th>\n",
       "      <td>637976.0</td>\n",
       "      <td>0.526690</td>\n",
       "      <td>0.175588</td>\n",
       "      <td>0.0</td>\n",
       "      <td>0.438678</td>\n",
       "      <td>0.527168</td>\n",
       "      <td>0.618319</td>\n",
       "      <td>1.0</td>\n",
       "    </tr>\n",
       "    <tr>\n",
       "      <th>precipIntensity</th>\n",
       "      <td>637976.0</td>\n",
       "      <td>0.061571</td>\n",
       "      <td>0.185762</td>\n",
       "      <td>0.0</td>\n",
       "      <td>0.000000</td>\n",
       "      <td>0.000000</td>\n",
       "      <td>0.000000</td>\n",
       "      <td>1.0</td>\n",
       "    </tr>\n",
       "    <tr>\n",
       "      <th>precipProbability</th>\n",
       "      <td>637976.0</td>\n",
       "      <td>0.145941</td>\n",
       "      <td>0.328776</td>\n",
       "      <td>0.0</td>\n",
       "      <td>0.000000</td>\n",
       "      <td>0.000000</td>\n",
       "      <td>0.000000</td>\n",
       "      <td>1.0</td>\n",
       "    </tr>\n",
       "    <tr>\n",
       "      <th>humidity</th>\n",
       "      <td>637976.0</td>\n",
       "      <td>0.622510</td>\n",
       "      <td>0.238922</td>\n",
       "      <td>0.0</td>\n",
       "      <td>0.448276</td>\n",
       "      <td>0.568966</td>\n",
       "      <td>0.862069</td>\n",
       "      <td>1.0</td>\n",
       "    </tr>\n",
       "    <tr>\n",
       "      <th>windSpeed</th>\n",
       "      <td>637976.0</td>\n",
       "      <td>0.394281</td>\n",
       "      <td>0.216348</td>\n",
       "      <td>0.0</td>\n",
       "      <td>0.203436</td>\n",
       "      <td>0.375258</td>\n",
       "      <td>0.547079</td>\n",
       "      <td>1.0</td>\n",
       "    </tr>\n",
       "    <tr>\n",
       "      <th>windGust</th>\n",
       "      <td>637976.0</td>\n",
       "      <td>0.290004</td>\n",
       "      <td>0.199950</td>\n",
       "      <td>0.0</td>\n",
       "      <td>0.123251</td>\n",
       "      <td>0.255198</td>\n",
       "      <td>0.413611</td>\n",
       "      <td>1.0</td>\n",
       "    </tr>\n",
       "    <tr>\n",
       "      <th>windGustTime</th>\n",
       "      <td>637976.0</td>\n",
       "      <td>0.454362</td>\n",
       "      <td>0.350562</td>\n",
       "      <td>0.0</td>\n",
       "      <td>0.142077</td>\n",
       "      <td>0.306011</td>\n",
       "      <td>0.857923</td>\n",
       "      <td>1.0</td>\n",
       "    </tr>\n",
       "    <tr>\n",
       "      <th>visibility</th>\n",
       "      <td>637976.0</td>\n",
       "      <td>0.835094</td>\n",
       "      <td>0.280279</td>\n",
       "      <td>0.0</td>\n",
       "      <td>0.831089</td>\n",
       "      <td>0.987073</td>\n",
       "      <td>0.999569</td>\n",
       "      <td>1.0</td>\n",
       "    </tr>\n",
       "    <tr>\n",
       "      <th>temperatureHigh</th>\n",
       "      <td>637976.0</td>\n",
       "      <td>0.490654</td>\n",
       "      <td>0.238032</td>\n",
       "      <td>0.0</td>\n",
       "      <td>0.392616</td>\n",
       "      <td>0.475586</td>\n",
       "      <td>0.564907</td>\n",
       "      <td>1.0</td>\n",
       "    </tr>\n",
       "    <tr>\n",
       "      <th>temperatureHighTime</th>\n",
       "      <td>637976.0</td>\n",
       "      <td>0.446548</td>\n",
       "      <td>0.346011</td>\n",
       "      <td>0.0</td>\n",
       "      <td>0.141831</td>\n",
       "      <td>0.315978</td>\n",
       "      <td>0.827648</td>\n",
       "      <td>1.0</td>\n",
       "    </tr>\n",
       "    <tr>\n",
       "      <th>temperatureLow</th>\n",
       "      <td>637976.0</td>\n",
       "      <td>0.566919</td>\n",
       "      <td>0.221973</td>\n",
       "      <td>0.0</td>\n",
       "      <td>0.428522</td>\n",
       "      <td>0.568000</td>\n",
       "      <td>0.726261</td>\n",
       "      <td>1.0</td>\n",
       "    </tr>\n",
       "    <tr>\n",
       "      <th>temperatureLowTime</th>\n",
       "      <td>637976.0</td>\n",
       "      <td>0.437046</td>\n",
       "      <td>0.348386</td>\n",
       "      <td>0.0</td>\n",
       "      <td>0.128623</td>\n",
       "      <td>0.293478</td>\n",
       "      <td>0.806159</td>\n",
       "      <td>1.0</td>\n",
       "    </tr>\n",
       "    <tr>\n",
       "      <th>apparentTemperatureHigh</th>\n",
       "      <td>637976.0</td>\n",
       "      <td>0.549234</td>\n",
       "      <td>0.221665</td>\n",
       "      <td>0.0</td>\n",
       "      <td>0.403412</td>\n",
       "      <td>0.530075</td>\n",
       "      <td>0.621747</td>\n",
       "      <td>1.0</td>\n",
       "    </tr>\n",
       "    <tr>\n",
       "      <th>apparentTemperatureHighTime</th>\n",
       "      <td>637976.0</td>\n",
       "      <td>0.437632</td>\n",
       "      <td>0.351885</td>\n",
       "      <td>0.0</td>\n",
       "      <td>0.127737</td>\n",
       "      <td>0.304745</td>\n",
       "      <td>0.826642</td>\n",
       "      <td>1.0</td>\n",
       "    </tr>\n",
       "    <tr>\n",
       "      <th>apparentTemperatureLow</th>\n",
       "      <td>637976.0</td>\n",
       "      <td>0.517155</td>\n",
       "      <td>0.227322</td>\n",
       "      <td>0.0</td>\n",
       "      <td>0.448363</td>\n",
       "      <td>0.514108</td>\n",
       "      <td>0.663375</td>\n",
       "      <td>1.0</td>\n",
       "    </tr>\n",
       "    <tr>\n",
       "      <th>apparentTemperatureLowTime</th>\n",
       "      <td>637976.0</td>\n",
       "      <td>0.440093</td>\n",
       "      <td>0.352441</td>\n",
       "      <td>0.0</td>\n",
       "      <td>0.124542</td>\n",
       "      <td>0.296703</td>\n",
       "      <td>0.815018</td>\n",
       "      <td>1.0</td>\n",
       "    </tr>\n",
       "    <tr>\n",
       "      <th>dewPoint</th>\n",
       "      <td>637976.0</td>\n",
       "      <td>0.589073</td>\n",
       "      <td>0.197524</td>\n",
       "      <td>0.0</td>\n",
       "      <td>0.499136</td>\n",
       "      <td>0.568280</td>\n",
       "      <td>0.728825</td>\n",
       "      <td>1.0</td>\n",
       "    </tr>\n",
       "    <tr>\n",
       "      <th>pressure</th>\n",
       "      <td>637976.0</td>\n",
       "      <td>0.463606</td>\n",
       "      <td>0.283936</td>\n",
       "      <td>0.0</td>\n",
       "      <td>0.247155</td>\n",
       "      <td>0.445849</td>\n",
       "      <td>0.711547</td>\n",
       "      <td>1.0</td>\n",
       "    </tr>\n",
       "    <tr>\n",
       "      <th>windBearing</th>\n",
       "      <td>637976.0</td>\n",
       "      <td>0.616138</td>\n",
       "      <td>0.279907</td>\n",
       "      <td>0.0</td>\n",
       "      <td>0.344633</td>\n",
       "      <td>0.723164</td>\n",
       "      <td>0.850282</td>\n",
       "      <td>1.0</td>\n",
       "    </tr>\n",
       "    <tr>\n",
       "      <th>cloudCover</th>\n",
       "      <td>637976.0</td>\n",
       "      <td>0.686291</td>\n",
       "      <td>0.358599</td>\n",
       "      <td>0.0</td>\n",
       "      <td>0.370000</td>\n",
       "      <td>0.820000</td>\n",
       "      <td>1.000000</td>\n",
       "      <td>1.0</td>\n",
       "    </tr>\n",
       "    <tr>\n",
       "      <th>uvIndex</th>\n",
       "      <td>637976.0</td>\n",
       "      <td>0.124516</td>\n",
       "      <td>0.237153</td>\n",
       "      <td>0.0</td>\n",
       "      <td>0.000000</td>\n",
       "      <td>0.000000</td>\n",
       "      <td>0.000000</td>\n",
       "      <td>1.0</td>\n",
       "    </tr>\n",
       "    <tr>\n",
       "      <th>visibility.1</th>\n",
       "      <td>637976.0</td>\n",
       "      <td>0.835094</td>\n",
       "      <td>0.280279</td>\n",
       "      <td>0.0</td>\n",
       "      <td>0.831089</td>\n",
       "      <td>0.987073</td>\n",
       "      <td>0.999569</td>\n",
       "      <td>1.0</td>\n",
       "    </tr>\n",
       "    <tr>\n",
       "      <th>ozone</th>\n",
       "      <td>637976.0</td>\n",
       "      <td>0.402883</td>\n",
       "      <td>0.255264</td>\n",
       "      <td>0.0</td>\n",
       "      <td>0.196347</td>\n",
       "      <td>0.347032</td>\n",
       "      <td>0.569863</td>\n",
       "      <td>1.0</td>\n",
       "    </tr>\n",
       "    <tr>\n",
       "      <th>sunriseTime</th>\n",
       "      <td>637976.0</td>\n",
       "      <td>0.442799</td>\n",
       "      <td>0.347586</td>\n",
       "      <td>0.0</td>\n",
       "      <td>0.130454</td>\n",
       "      <td>0.304368</td>\n",
       "      <td>0.826116</td>\n",
       "      <td>1.0</td>\n",
       "    </tr>\n",
       "    <tr>\n",
       "      <th>sunsetTime</th>\n",
       "      <td>637976.0</td>\n",
       "      <td>0.442736</td>\n",
       "      <td>0.347590</td>\n",
       "      <td>0.0</td>\n",
       "      <td>0.130395</td>\n",
       "      <td>0.304275</td>\n",
       "      <td>0.826039</td>\n",
       "      <td>1.0</td>\n",
       "    </tr>\n",
       "    <tr>\n",
       "      <th>moonPhase</th>\n",
       "      <td>637976.0</td>\n",
       "      <td>0.582234</td>\n",
       "      <td>0.291278</td>\n",
       "      <td>0.0</td>\n",
       "      <td>0.250000</td>\n",
       "      <td>0.702381</td>\n",
       "      <td>0.833333</td>\n",
       "      <td>1.0</td>\n",
       "    </tr>\n",
       "    <tr>\n",
       "      <th>precipIntensityMax</th>\n",
       "      <td>637976.0</td>\n",
       "      <td>0.256128</td>\n",
       "      <td>0.378450</td>\n",
       "      <td>0.0</td>\n",
       "      <td>0.000000</td>\n",
       "      <td>0.002742</td>\n",
       "      <td>0.627827</td>\n",
       "      <td>1.0</td>\n",
       "    </tr>\n",
       "    <tr>\n",
       "      <th>uvIndexTime</th>\n",
       "      <td>637976.0</td>\n",
       "      <td>0.443185</td>\n",
       "      <td>0.347211</td>\n",
       "      <td>0.0</td>\n",
       "      <td>0.130199</td>\n",
       "      <td>0.305606</td>\n",
       "      <td>0.826401</td>\n",
       "      <td>1.0</td>\n",
       "    </tr>\n",
       "    <tr>\n",
       "      <th>temperatureMin</th>\n",
       "      <td>637976.0</td>\n",
       "      <td>0.648932</td>\n",
       "      <td>0.235397</td>\n",
       "      <td>0.0</td>\n",
       "      <td>0.529305</td>\n",
       "      <td>0.677466</td>\n",
       "      <td>0.846378</td>\n",
       "      <td>1.0</td>\n",
       "    </tr>\n",
       "    <tr>\n",
       "      <th>temperatureMinTime</th>\n",
       "      <td>637976.0</td>\n",
       "      <td>0.444223</td>\n",
       "      <td>0.333434</td>\n",
       "      <td>0.0</td>\n",
       "      <td>0.133913</td>\n",
       "      <td>0.292174</td>\n",
       "      <td>0.805217</td>\n",
       "      <td>1.0</td>\n",
       "    </tr>\n",
       "    <tr>\n",
       "      <th>temperatureMax</th>\n",
       "      <td>637976.0</td>\n",
       "      <td>0.482346</td>\n",
       "      <td>0.231708</td>\n",
       "      <td>0.0</td>\n",
       "      <td>0.371921</td>\n",
       "      <td>0.457718</td>\n",
       "      <td>0.550082</td>\n",
       "      <td>1.0</td>\n",
       "    </tr>\n",
       "    <tr>\n",
       "      <th>temperatureMaxTime</th>\n",
       "      <td>637976.0</td>\n",
       "      <td>0.456733</td>\n",
       "      <td>0.353059</td>\n",
       "      <td>0.0</td>\n",
       "      <td>0.145488</td>\n",
       "      <td>0.324125</td>\n",
       "      <td>0.848987</td>\n",
       "      <td>1.0</td>\n",
       "    </tr>\n",
       "    <tr>\n",
       "      <th>apparentTemperatureMin</th>\n",
       "      <td>637976.0</td>\n",
       "      <td>0.634527</td>\n",
       "      <td>0.251767</td>\n",
       "      <td>0.0</td>\n",
       "      <td>0.564802</td>\n",
       "      <td>0.648725</td>\n",
       "      <td>0.846317</td>\n",
       "      <td>1.0</td>\n",
       "    </tr>\n",
       "    <tr>\n",
       "      <th>apparentTemperatureMinTime</th>\n",
       "      <td>637976.0</td>\n",
       "      <td>0.456235</td>\n",
       "      <td>0.343945</td>\n",
       "      <td>0.0</td>\n",
       "      <td>0.131532</td>\n",
       "      <td>0.304505</td>\n",
       "      <td>0.827027</td>\n",
       "      <td>1.0</td>\n",
       "    </tr>\n",
       "    <tr>\n",
       "      <th>apparentTemperatureMax</th>\n",
       "      <td>637976.0</td>\n",
       "      <td>0.461801</td>\n",
       "      <td>0.245506</td>\n",
       "      <td>0.0</td>\n",
       "      <td>0.269735</td>\n",
       "      <td>0.424779</td>\n",
       "      <td>0.536991</td>\n",
       "      <td>1.0</td>\n",
       "    </tr>\n",
       "    <tr>\n",
       "      <th>apparentTemperatureMaxTime</th>\n",
       "      <td>637976.0</td>\n",
       "      <td>0.447940</td>\n",
       "      <td>0.359500</td>\n",
       "      <td>0.0</td>\n",
       "      <td>0.131086</td>\n",
       "      <td>0.312734</td>\n",
       "      <td>0.848315</td>\n",
       "      <td>1.0</td>\n",
       "    </tr>\n",
       "  </tbody>\n",
       "</table>\n",
       "</div>"
      ],
      "text/plain": [
       "                                count      mean       std  min       25%  \\\n",
       "timestamp                    637976.0  0.430280  0.352197  0.0  0.122810   \n",
       "hour                         637976.0  0.505153  0.302121  0.0  0.260870   \n",
       "day                          637976.0  0.579230  0.344210  0.0  0.413793   \n",
       "month                        637976.0  0.586550  0.492452  0.0  0.000000   \n",
       "price                        637976.0  0.147843  0.098151  0.0  0.068421   \n",
       "distance                     637976.0  0.276691  0.144823  0.0  0.159439   \n",
       "surge_multiplier             637976.0  0.007534  0.047711  0.0  0.000000   \n",
       "latitude                     637976.0  0.815342  0.316297  0.0  0.895572   \n",
       "longitude                    637976.0  0.542210  0.280435  0.0  0.337017   \n",
       "temperature                  637976.0  0.539609  0.175555  0.0  0.457844   \n",
       "apparentTemperature          637976.0  0.526690  0.175588  0.0  0.438678   \n",
       "precipIntensity              637976.0  0.061571  0.185762  0.0  0.000000   \n",
       "precipProbability            637976.0  0.145941  0.328776  0.0  0.000000   \n",
       "humidity                     637976.0  0.622510  0.238922  0.0  0.448276   \n",
       "windSpeed                    637976.0  0.394281  0.216348  0.0  0.203436   \n",
       "windGust                     637976.0  0.290004  0.199950  0.0  0.123251   \n",
       "windGustTime                 637976.0  0.454362  0.350562  0.0  0.142077   \n",
       "visibility                   637976.0  0.835094  0.280279  0.0  0.831089   \n",
       "temperatureHigh              637976.0  0.490654  0.238032  0.0  0.392616   \n",
       "temperatureHighTime          637976.0  0.446548  0.346011  0.0  0.141831   \n",
       "temperatureLow               637976.0  0.566919  0.221973  0.0  0.428522   \n",
       "temperatureLowTime           637976.0  0.437046  0.348386  0.0  0.128623   \n",
       "apparentTemperatureHigh      637976.0  0.549234  0.221665  0.0  0.403412   \n",
       "apparentTemperatureHighTime  637976.0  0.437632  0.351885  0.0  0.127737   \n",
       "apparentTemperatureLow       637976.0  0.517155  0.227322  0.0  0.448363   \n",
       "apparentTemperatureLowTime   637976.0  0.440093  0.352441  0.0  0.124542   \n",
       "dewPoint                     637976.0  0.589073  0.197524  0.0  0.499136   \n",
       "pressure                     637976.0  0.463606  0.283936  0.0  0.247155   \n",
       "windBearing                  637976.0  0.616138  0.279907  0.0  0.344633   \n",
       "cloudCover                   637976.0  0.686291  0.358599  0.0  0.370000   \n",
       "uvIndex                      637976.0  0.124516  0.237153  0.0  0.000000   \n",
       "visibility.1                 637976.0  0.835094  0.280279  0.0  0.831089   \n",
       "ozone                        637976.0  0.402883  0.255264  0.0  0.196347   \n",
       "sunriseTime                  637976.0  0.442799  0.347586  0.0  0.130454   \n",
       "sunsetTime                   637976.0  0.442736  0.347590  0.0  0.130395   \n",
       "moonPhase                    637976.0  0.582234  0.291278  0.0  0.250000   \n",
       "precipIntensityMax           637976.0  0.256128  0.378450  0.0  0.000000   \n",
       "uvIndexTime                  637976.0  0.443185  0.347211  0.0  0.130199   \n",
       "temperatureMin               637976.0  0.648932  0.235397  0.0  0.529305   \n",
       "temperatureMinTime           637976.0  0.444223  0.333434  0.0  0.133913   \n",
       "temperatureMax               637976.0  0.482346  0.231708  0.0  0.371921   \n",
       "temperatureMaxTime           637976.0  0.456733  0.353059  0.0  0.145488   \n",
       "apparentTemperatureMin       637976.0  0.634527  0.251767  0.0  0.564802   \n",
       "apparentTemperatureMinTime   637976.0  0.456235  0.343945  0.0  0.131532   \n",
       "apparentTemperatureMax       637976.0  0.461801  0.245506  0.0  0.269735   \n",
       "apparentTemperatureMaxTime   637976.0  0.447940  0.359500  0.0  0.131086   \n",
       "\n",
       "                                  50%       75%  max  \n",
       "timestamp                    0.272647  0.829827  1.0  \n",
       "hour                         0.521739  0.782609  1.0  \n",
       "day                          0.551724  0.931034  1.0  \n",
       "month                        1.000000  1.000000  1.0  \n",
       "price                        0.115789  0.210526  1.0  \n",
       "distance                     0.272959  0.371173  1.0  \n",
       "surge_multiplier             0.000000  0.000000  1.0  \n",
       "latitude                     0.906147  0.990747  1.0  \n",
       "longitude                    0.584254  0.707182  1.0  \n",
       "temperature                  0.563299  0.643957  1.0  \n",
       "apparentTemperature          0.527168  0.618319  1.0  \n",
       "precipIntensity              0.000000  0.000000  1.0  \n",
       "precipProbability            0.000000  0.000000  1.0  \n",
       "humidity                     0.568966  0.862069  1.0  \n",
       "windSpeed                    0.375258  0.547079  1.0  \n",
       "windGust                     0.255198  0.413611  1.0  \n",
       "windGustTime                 0.306011  0.857923  1.0  \n",
       "visibility                   0.987073  0.999569  1.0  \n",
       "temperatureHigh              0.475586  0.564907  1.0  \n",
       "temperatureHighTime          0.315978  0.827648  1.0  \n",
       "temperatureLow               0.568000  0.726261  1.0  \n",
       "temperatureLowTime           0.293478  0.806159  1.0  \n",
       "apparentTemperatureHigh      0.530075  0.621747  1.0  \n",
       "apparentTemperatureHighTime  0.304745  0.826642  1.0  \n",
       "apparentTemperatureLow       0.514108  0.663375  1.0  \n",
       "apparentTemperatureLowTime   0.296703  0.815018  1.0  \n",
       "dewPoint                     0.568280  0.728825  1.0  \n",
       "pressure                     0.445849  0.711547  1.0  \n",
       "windBearing                  0.723164  0.850282  1.0  \n",
       "cloudCover                   0.820000  1.000000  1.0  \n",
       "uvIndex                      0.000000  0.000000  1.0  \n",
       "visibility.1                 0.987073  0.999569  1.0  \n",
       "ozone                        0.347032  0.569863  1.0  \n",
       "sunriseTime                  0.304368  0.826116  1.0  \n",
       "sunsetTime                   0.304275  0.826039  1.0  \n",
       "moonPhase                    0.702381  0.833333  1.0  \n",
       "precipIntensityMax           0.002742  0.627827  1.0  \n",
       "uvIndexTime                  0.305606  0.826401  1.0  \n",
       "temperatureMin               0.677466  0.846378  1.0  \n",
       "temperatureMinTime           0.292174  0.805217  1.0  \n",
       "temperatureMax               0.457718  0.550082  1.0  \n",
       "temperatureMaxTime           0.324125  0.848987  1.0  \n",
       "apparentTemperatureMin       0.648725  0.846317  1.0  \n",
       "apparentTemperatureMinTime   0.304505  0.827027  1.0  \n",
       "apparentTemperatureMax       0.424779  0.536991  1.0  \n",
       "apparentTemperatureMaxTime   0.312734  0.848315  1.0  "
      ]
     },
     "execution_count": 19,
     "metadata": {},
     "output_type": "execute_result"
    }
   ],
   "source": [
    "numerical_data = clean_data.select_dtypes(include = [np.number])\n",
    "from sklearn.preprocessing import MinMaxScaler\n",
    "scaler = MinMaxScaler()\n",
    "scaler.fit(numerical_data)\n",
    "scaled_data = pd.DataFrame(scaler.transform(numerical_data), columns = numerical_data.columns)\n",
    "scaled_data.describe().transpose()"
   ]
  },
  {
   "cell_type": "code",
   "execution_count": 20,
   "metadata": {
    "scrolled": false
   },
   "outputs": [
    {
     "data": {
      "image/png": "[encoded data removed]",
      "text/plain": [
       "<Figure size 640x480 with 1 Axes>"
      ]
     },
     "metadata": {},
     "output_type": "display_data"
    }
   ],
   "source": [
    "# price, hour, temperature, precipProbability, windSpeed, humidity\n",
    "box_plot_columns = ['price', 'hour', 'temperature', 'precipProbability', 'windSpeed', 'humidity']\n",
    "scaled_data[box_plot_columns]\n",
    "plt.title(\"Distribution of select features\")\n",
    "plt.boxplot(scaled_data[box_plot_columns], labels = box_plot_columns)\n",
    "plt.show()"
   ]
  },
  {
   "cell_type": "code",
   "execution_count": 21,
   "metadata": {},
   "outputs": [
    {
     "data": {
      "text/plain": [
       "array([0, 0, 0, ..., 1, 1, 1])"
      ]
     },
     "execution_count": 21,
     "metadata": {},
     "output_type": "execute_result"
    }
   ],
   "source": [
    "from sklearn.preprocessing import LabelEncoder\n",
    "encoder = LabelEncoder()\n",
    "encoder.fit(clean_data['cab_type'])\n",
    "cab_type = encoder.transform(clean_data['cab_type'])\n",
    "cab_type"
   ]
  },
  {
   "cell_type": "code",
   "execution_count": 22,
   "metadata": {},
   "outputs": [
    {
     "data": {
      "text/plain": [
       "-0.00018057921427333445"
      ]
     },
     "execution_count": 22,
     "metadata": {},
     "output_type": "execute_result"
    }
   ],
   "source": [
    "pd.Series(cab_type).corr(clean_data['temperature'])"
   ]
  },
  {
   "cell_type": "code",
   "execution_count": 23,
   "metadata": {
    "scrolled": false
   },
   "outputs": [
    {
     "data": {
      "image/png": "[encoded data removed]",
      "text/plain": [
       "<Figure size 640x480 with 1 Axes>"
      ]
     },
     "metadata": {},
     "output_type": "display_data"
    }
   ],
   "source": [
    "plt.hist(clean_data[clean_data['cab_type'] == 'Uber']['surge_multiplier'])\n",
    "plt.show()"
   ]
  },
  {
   "cell_type": "code",
   "execution_count": 24,
   "metadata": {},
   "outputs": [
    {
     "data": {
      "text/plain": [
       "1.0    330568\n",
       "Name: surge_multiplier, dtype: int64"
      ]
     },
     "execution_count": 24,
     "metadata": {},
     "output_type": "execute_result"
    }
   ],
   "source": [
    "clean_data[clean_data['cab_type'] == 'Uber']['surge_multiplier'].value_counts()"
   ]
  },
  {
   "cell_type": "code",
   "execution_count": 25,
   "metadata": {
    "scrolled": false
   },
   "outputs": [
    {
     "data": {
      "image/png": "[encoded data removed]",
      "text/plain": [
       "<Figure size 640x480 with 1 Axes>"
      ]
     },
     "metadata": {},
     "output_type": "display_data"
    }
   ],
   "source": [
    "plt.hist(clean_data[clean_data['cab_type'] == 'Lyft']['surge_multiplier'])\n",
    "plt.show()"
   ]
  },
  {
   "cell_type": "code",
   "execution_count": 26,
   "metadata": {
    "scrolled": true
   },
   "outputs": [
    {
     "data": {
      "text/plain": [
       "1.00    286433\n",
       "1.25     11085\n",
       "1.50      5065\n",
       "1.75      2420\n",
       "2.00      2239\n",
       "2.50       154\n",
       "3.00        12\n",
       "Name: surge_multiplier, dtype: int64"
      ]
     },
     "execution_count": 26,
     "metadata": {},
     "output_type": "execute_result"
    }
   ],
   "source": [
    "clean_data[clean_data['cab_type'] == 'Lyft']['surge_multiplier'].value_counts()\n",
    "#plt.plot(clean_data['temperature'].value_counts().reset_index()['index'],"
   ]
  },
  {
   "cell_type": "code",
   "execution_count": 42,
   "metadata": {},
   "outputs": [
    {
     "data": {
      "text/plain": [
       "'2018-11-27 02:00:23'"
      ]
     },
     "execution_count": 42,
     "metadata": {},
     "output_type": "execute_result"
    }
   ],
   "source": [
    "clean_data['datetime'][1]"
   ]
  },
  {
   "cell_type": "code",
   "execution_count": null,
   "metadata": {},
   "outputs": [],
   "source": [
    "clean_data['datetime']"
   ]
  },
  {
   "cell_type": "code",
   "execution_count": 38,
   "metadata": {},
   "outputs": [
    {
     "data": {
      "text/plain": [
       "[<matplotlib.lines.Line2D at 0x205c1d12410>]"
      ]
     },
     "execution_count": 38,
     "metadata": {},
     "output_type": "execute_result"
    },
    {
     "data": {
      "image/png": "[encoded data removed]",
      "text/plain": [
       "<Figure size 640x480 with 1 Axes>"
      ]
     },
     "metadata": {},
     "output_type": "display_data"
    }
   ],
   "source": []
  },
  {
   "cell_type": "markdown",
   "metadata": {},
   "source": [
    "## 3. Asking the Hard Questions\n",
    "\n",
    "By now we should know all of the ins and outs about this dataset (right?). Let's dive a little deeper into it and see if we can find anything interesting."
   ]
  },
  {
   "cell_type": "markdown",
   "metadata": {},
   "source": [
    "### Problem 4\n",
    "\n",
    "As you worked through the initial data processing and understanding phase, did anything catch your interest? Let's formulate some questions and hypotheses that you could explore in depth.\n",
    "\n",
    "**Write-up!** Formulate and describe a question you have/want to investigate. Then, formulate and describe a hypothesis that can (possibly) answer it. What inspired your idea (provide specifics from [the last section](#2.-Getting-Familiar-with-the-Data), if any)? How can you use the data to support or reject your hypothesis?\n",
    "\n",
    "> **Hint**: Your question/hypothesis might be something that you are personally interested in or something that you think might lead to a product or service for users/customers. You might want to think about something that could help others in making decisions, etc.\n",
    "\n",
    "*Grading Note: Your work will be graded for _creativity_. Be creative in the questions you ask/hypothesis you pose.* "
   ]
  },
  {
   "cell_type": "markdown",
   "metadata": {},
   "source": [
    "**Answer here:** (feel free to make multiple cells!)"
   ]
  },
  {
   "cell_type": "markdown",
   "metadata": {},
   "source": [
    "### Problem 5\n",
    "\n",
    "**Do this!** Let's explore your hypothesis. Find evidence from the data that supports or refutes your hypothesis and present it — recall that as a data scientist, one of your goals is to discover and communicate your results to your audience, _me_. The more thorough your analysis, the better!\n",
    "\n",
    "> **Hint**: Even though we focus on EDA here, you may include some predictive modeling here as well. \n",
    "\n",
    "Here's yet another _free_ cell; use as many as you need."
   ]
  },
  {
   "cell_type": "code",
   "execution_count": 27,
   "metadata": {},
   "outputs": [],
   "source": [
    "# woah! these things are falling from the sky or something"
   ]
  },
  {
   "cell_type": "markdown",
   "metadata": {},
   "source": [
    "### Problem 6\n",
    "\n",
    "**Write up!** Did you find anything interesting in [Problem 5](#Problem-5)? If you did, tell me about it. If you don't think you found anything interesting, keep looking. \n",
    "\n",
    "> **Hint**: Provide links to key figures in your discussion. See [this StackOverflow question](https://stackoverflow.com/questions/28080066/how-to-reference-a-ipython-notebook-cell-in-markdown) for details."
   ]
  },
  {
   "cell_type": "markdown",
   "metadata": {},
   "source": [
    "**Answer here:** (feel free to make multiple cells!)"
   ]
  },
  {
   "cell_type": "markdown",
   "metadata": {},
   "source": [
    "### Problem 7\n",
    "One last step that we shouldn't skip is reviewing both our data analysis approach and also the data acquisition method. \n",
    "\n",
    "**Write up!** Are there any shortcommings and/or **ethical issues** related to the way you used this data or formed your conclusions?\n",
    "* Who are the stakeholders?\n",
    "* How could someone other than yourself be impacted by any ethical issues arising from your analysis/work/product?\n",
    "* Can you propose a way to resolve the issue(s)?"
   ]
  },
  {
   "cell_type": "markdown",
   "metadata": {},
   "source": [
    "**Answer here:** (feel free to make multiple cells!)"
   ]
  },
  {
   "cell_type": "markdown",
   "metadata": {},
   "source": [
    "Let's conclude with thinking about imporvements for the future! \n",
    "\n",
    "**Write up!** There are often times where the data you need doesn't exist (yet) and you need to go collect it. Based on your analysis of the data set, which features were informative and which weren't? What information that was missing from this dataset do you think would be helpful to have for next time?"
   ]
  },
  {
   "cell_type": "markdown",
   "metadata": {},
   "source": [
    "**Answer here:** (feel free to make multiple cells!)"
   ]
  },
  {
   "cell_type": "markdown",
   "metadata": {},
   "source": [
    "And that's it! Remember to review your work and make sure it is well presented and organized. Not everyting you coded up needs to remain in your submission. **[Does [this cell] spark joy?](https://i.kinja-img.com/gawker-media/image/upload/s--iW_3HGbT--/c_scale,dpr_2.0,f_auto,fl_progressive,q_80,w_800/oruf4oavtj5vpmvaquew.jpg)** You are always trying to communicate your findings to somebody, _maybe even yourself_. \n",
    "\n",
    "> **Final Grading Note/Reminder**: Your work will be graded for _creativity_, _aesthetics_, _readability_, _style_, and _cleanlines_. So, carefully document your code and use descriptive/intuitive variable names. For write-ups use consice and clear language like in a written project report. Be creative in the questions you ask/hypothesis you pose as well as in the plots you use and select visulatizations and colors that make for a plesant and intuitive viewing expereince. The goal of a good visualization is that the viewer will quickly understand your figures. "
   ]
  },
  {
   "cell_type": "markdown",
   "metadata": {},
   "source": [
    "### Submission instructions\n",
    "* Check to make sure that your code runs without error on a fresh kernel. Within jupyter, **Kernel -> Restart & Run All**. \n",
    "* **Save your notebook!**\n",
    "* Submit this Python notebook, including your answers in the code cells as homework submission. **Be sure to add your partner to the submission as well**.\n",
    "* After submitting, navigate to the **code tab** to view your submission. Verify that all your write-ups, markdown cells, and visualizations appear correctly on Gradescope. This is the **exact** view the graders will see when grading your work, so make sure that everything looks as expected."
   ]
  }
 ],
 "metadata": {
  "kernelspec": {
   "display_name": "Python 3 (ipykernel)",
   "language": "python",
   "name": "python3"
  },
  "language_info": {
   "codemirror_mode": {
    "name": "ipython",
    "version": 3
   },
   "file_extension": ".py",
   "mimetype": "text/x-python",
   "name": "python",
   "nbconvert_exporter": "python",
   "pygments_lexer": "ipython3",
   "version": "3.10.12"
  },
  "otter": {
   "tests": {
    "hw6": {
     "name": "hw6",
     "points": 0,
     "suites": [
      {
       "cases": [
        {
         "code": ">>> True == True\n",
         "hidden": false,
         "locked": false
        }
       ],
       "scored": true,
       "setup": "",
       "teardown": "",
       "type": "doctest"
      }
     ]
    }
   }
  }
 },
 "nbformat": 4,
 "nbformat_minor": 2
}
